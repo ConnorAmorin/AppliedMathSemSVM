{
 "cells": [
  {
   "cell_type": "code",
   "execution_count": 1,
   "metadata": {
    "collapsed": true
   },
   "outputs": [],
   "source": [
    "##### IMPORT NUMPY #####\n",
    "import numpy as np\n",
    "\n",
    "### IMPORT MATPLOT LIB AND SET-UP PLOTTING \n",
    "from matplotlib.colors import ListedColormap\n",
    "import matplotlib.pyplot as plt\n",
    "\n",
    "def plot_decision_region(X, y, classifier, test_idx=None, resolution=0.02):\n",
    "    # set-up marker generator and color map\n",
    "    markers = ('s', 'x', 'o', '^', 'v')\n",
    "    colors = ('red', 'blue', 'lightgreen', 'grey', 'cyan')\n",
    "    cmap = ListedColormap(colors[:len(np.unique(y))])\n",
    "    \n",
    "    #plot the decision surface\n",
    "    x1_min, x1_max = X[:,0].min() - 1, X[:,0].max() + 1 \n",
    "    x2_min, x2_max = X[:,1].min() - 1, X[:,1].max() + 1\n",
    "    xx1, xx2 = np.meshgrid(np.arange(x1_min, x1_max, resolution), \n",
    "                           np.arange(x2_min, x2_max, resolution))\n",
    "    Z = classifier.predict(np.array([xx1.ravel(), xx2.ravel()]).T)\n",
    "    Z = Z.reshape(xx1.shape)\n",
    "    plt.contourf(xx1, xx2, Z, alpha=0.4, cmap=cmap)\n",
    "    plt.xlim(xx1.min(), xx1.max())\n",
    "    plt.xlim(xx2.min(), xx2.max())\n",
    "    \n",
    "    #plot all samples\n",
    "    X_test, y_test = X[test_idx,:],y[test_idx]\n",
    "    for idx, cl in enumerate(np.unique(y)):\n",
    "        plt.scatter(x=X[y==cl,0], y=X[y==cl,1], \n",
    "                    alpha=0.8, c=cmap(idx), \n",
    "                    marker=markers[idx], label=cl)\n",
    "\n",
    "    #highlight test samples\n",
    "        if test_idx:\n",
    "            X_test, y_test = X[test_idx,:], y[test_idx]\n",
    "            plt.scatter(X_test[:,0], X_test[:,1], c='',\n",
    "                        alpha=1.0, linewidth=1, marker='o',\n",
    "                        s=55, label='test set')"
   ]
  },
  {
   "cell_type": "code",
   "execution_count": 12,
   "metadata": {
    "collapsed": false
   },
   "outputs": [
    {
     "name": "stdout",
     "output_type": "stream",
     "text": [
      "Total predictors/features: (150, 2)\n",
      "Total response/target: (150,)\n",
      "Training predictors/features; (105, 2)\n",
      "Training response/target: (105,)\n",
      "Testing predictors/features: (45, 2)\n",
      "Testing response/target: (45,)\n"
     ]
    }
   ],
   "source": [
    "#### IMPORT DATASETS AND SPECIFY IRIS\n",
    "from sklearn import datasets\n",
    "iris = datasets.load_iris()\n",
    "X = iris.data[:, [2,3]]\n",
    "y = iris.target\n",
    "\n",
    "### SPLIT DATA INTO TRAINING AND TESTING\n",
    "from sklearn.cross_validation import train_test_split\n",
    "X_train, X_test, y_train, y_test = train_test_split(X, y, test_size=0.3, random_state=0)\n",
    "\n",
    "####CHECK THE DIMENSIONS OF THE DATA\n",
    "print('Total predictors/features:', np.shape(X))\n",
    "print('Total response/target:', np.shape(y))\n",
    "print('Training predictors/features;', np.shape(X_train))\n",
    "print('Training response/target:', np.shape(y_train))\n",
    "print('Testing predictors/features:', np.shape(X_test))\n",
    "print('Testing response/target:', np.shape(y_test))"
   ]
  },
  {
   "cell_type": "code",
   "execution_count": 17,
   "metadata": {
    "collapsed": false
   },
   "outputs": [
    {
     "data": {
      "text/plain": [
       "DescribeResult(nobs=105, minmax=(-1.5192836530366176, 1.7101884052506424), mean=-3.5738607840314564e-16, variance=1.0096153846153846, skewness=-0.27678257922276894, kurtosis=-1.3879408262991115)"
      ]
     },
     "execution_count": 17,
     "metadata": {},
     "output_type": "execute_result"
    }
   ],
   "source": [
    "### STANDARDIZE PREDICTORS\n",
    "from sklearn.preprocessing import StandardScaler\n",
    "sc = StandardScaler()\n",
    "sc.fit(X_train)\n",
    "X_train_std = sc.transform(X_train)\n",
    "X_test_std = sc.transform(X_test)"
   ]
  },
  {
   "cell_type": "code",
   "execution_count": 32,
   "metadata": {
    "collapsed": false
   },
   "outputs": [
    {
     "data": {
      "text/plain": [
       "<function matplotlib.pyplot.show>"
      ]
     },
     "execution_count": 32,
     "metadata": {},
     "output_type": "execute_result"
    },
    {
     "data": {
      "image/png": "[encoded data removed]",
      "text/plain": [
       "<matplotlib.figure.Figure at 0x1839c706f60>"
      ]
     },
     "metadata": {},
     "output_type": "display_data"
    }
   ],
   "source": [
    "#### IMPORT PYPLOT\n",
    "import matplotlib.pyplot as plt\n",
    "%matplotlib inline\n",
    "\n",
    "### IMPORT SVC (Support Vector Classifier)\n",
    "from sklearn.svm import SVC\n",
    "svm = SVC(kernel='rbf', random_state=0, gamma=0.10, C=1.0)\n",
    "svm.fit(X_train_std, y_train)\n",
    "X_combined_std = np.vstack((X_train_std, X_test_std))\n",
    "y_combined = np.hstack((y_train, y_test))\n",
    "plot_decision_region(X=X_combined_std,\n",
    "                     y=y_combined, classifier=svm, \n",
    "                     test_idx=range(105,150))\n",
    "plt.xlabel('petal length [standardized]')\n",
    "plt.ylabel('petal width [standardized]')\n",
    "plt.legend(loc='upper left')\n",
    "plt.show"
   ]
  },
  {
   "cell_type": "code",
   "execution_count": null,
   "metadata": {
    "collapsed": true
   },
   "outputs": [],
   "source": []
  }
 ],
 "metadata": {
  "kernelspec": {
   "display_name": "Python [Root]",
   "language": "python",
   "name": "Python [Root]"
  },
  "language_info": {
   "codemirror_mode": {
    "name": "ipython",
    "version": 3
   },
   "file_extension": ".py",
   "mimetype": "text/x-python",
   "name": "python",
   "nbconvert_exporter": "python",
   "pygments_lexer": "ipython3",
   "version": "3.5.2"
  }
 },
 "nbformat": 4,
 "nbformat_minor": 0
}
